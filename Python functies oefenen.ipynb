{
 "cells": [
  {
   "cell_type": "code",
   "execution_count": null,
   "metadata": {},
   "outputs": [],
   "source": [
    "# list[]\n",
    "# tulpe() (immutable)\n",
    "# set{} unordered an no duplicates\n",
    "# dictionary{'..':'..'}"
   ]
  },
  {
   "cell_type": "code",
   "execution_count": 14,
   "metadata": {},
   "outputs": [
    {
     "name": "stdout",
     "output_type": "stream",
     "text": [
      "History\n",
      "4\n",
      "CompSci\n",
      "['History', 'Math']\n",
      "['History', 'Math']\n",
      "['Physics']\n"
     ]
    }
   ],
   "source": [
    "# LISTS\n",
    "\n",
    "courses = ['History', 'Math', 'Physics', 'CompSci']\n",
    "print(courses[0])\n",
    "print(len(courses))\n",
    "#slicing --> reverse and skipping video\n",
    "print(courses[-1])\n",
    "print(courses[0:2])\n",
    "print(courses[:2])\n",
    "print(courses[2:-1])"
   ]
  },
  {
   "cell_type": "code",
   "execution_count": 18,
   "metadata": {},
   "outputs": [
    {
     "name": "stdout",
     "output_type": "stream",
     "text": [
      "[['Art', 'Education'], 'Biology', ['Art', 'Education'], 'Biology', 'History', 'Math', 'Physics', 'CompSci', 'Art', 'Art']\n",
      "['Art', 'Education']\n"
     ]
    }
   ],
   "source": [
    "courses.append('Art')\n",
    "courses.insert(0, 'Biology')\n",
    "#insert and append will multiply values if run multiple times seperately\n",
    "courses_2 = ['Art', 'Education']\n",
    "courses.insert(0, courses_2)\n",
    "\n",
    "\n",
    "print(courses)\n",
    "print(courses[0])"
   ]
  },
  {
   "cell_type": "code",
   "execution_count": 19,
   "metadata": {},
   "outputs": [
    {
     "name": "stdout",
     "output_type": "stream",
     "text": [
      "['History', 'Math', 'Physics', 'CompSci', 'Art', 'Education']\n"
     ]
    }
   ],
   "source": [
    "courses = ['History', 'Math', 'Physics', 'CompSci']\n",
    "courses_2 = ['Art', 'Education']\n",
    "\n",
    "courses.extend(courses_2)\n",
    "\n",
    "print(courses)"
   ]
  },
  {
   "cell_type": "code",
   "execution_count": null,
   "metadata": {},
   "outputs": [],
   "source": [
    "# append and insert will add the list values in one list [], so if you have more then 1 value it will be added as [value1, value2] instead of [value1],[value2]\n",
    "# use extend for this"
   ]
  },
  {
   "cell_type": "code",
   "execution_count": 22,
   "metadata": {},
   "outputs": [
    {
     "name": "stdout",
     "output_type": "stream",
     "text": [
      "['History', 'Math', 'Physics', 'CompSci', 'Art', 'Education']\n",
      "Art\n",
      "['History', 'Physics', 'CompSci']\n"
     ]
    }
   ],
   "source": [
    "courses = ['History', 'Math', 'Physics', 'CompSci']\n",
    "courses_2 = ['Art', 'Education']\n",
    "\n",
    "courses.extend(courses_2)\n",
    "print(courses)\n",
    "#removing specific value\n",
    "courses.remove('Math')\n",
    "# removing last value of list\n",
    "courses.pop()\n",
    "\n",
    "popped = courses.pop()\n",
    "print(popped)\n",
    "\n",
    "print(courses)"
   ]
  },
  {
   "cell_type": "code",
   "execution_count": 26,
   "metadata": {},
   "outputs": [
    {
     "name": "stdout",
     "output_type": "stream",
     "text": [
      "['Physics', 'Math', 'History', 'CompSci']\n",
      "[9, 6, 4, 3, 3, 1]\n"
     ]
    }
   ],
   "source": [
    "courses = ['History', 'Math', 'Physics', 'CompSci']\n",
    "nums = [9,3,6,4,3,1]\n",
    "\n",
    "courses.reverse()\n",
    "# last item first, reversed list\n",
    "\n",
    "courses.sort()\n",
    "# sorted in alphabetic order or number\n",
    "nums.sort()\n",
    "# sort in descending way\n",
    "courses.sort(reverse=True)\n",
    "nums.sort(reverse=True)\n",
    "\n",
    "#these functions will sort the list courses\n",
    "\n",
    "print(courses)\n",
    "print(nums)"
   ]
  },
  {
   "cell_type": "code",
   "execution_count": 28,
   "metadata": {},
   "outputs": [
    {
     "name": "stdout",
     "output_type": "stream",
     "text": [
      "['History', 'Math', 'Physics', 'CompSci']\n",
      "['CompSci', 'History', 'Math', 'Physics']\n"
     ]
    }
   ],
   "source": [
    "# to leave the original list alone and sort seperately\n",
    "\n",
    "courses = ['History', 'Math', 'Physics', 'CompSci']\n",
    "nums = [9,3,6,4,3,1]\n",
    "\n",
    "sorted_courses = sorted(courses)\n",
    "\n",
    "print(courses)\n",
    "#courses is still not sorted, because the original list is not changed\n",
    "print(sorted_courses)"
   ]
  },
  {
   "cell_type": "code",
   "execution_count": 31,
   "metadata": {},
   "outputs": [
    {
     "name": "stdout",
     "output_type": "stream",
     "text": [
      "1\n",
      "9\n",
      "26\n"
     ]
    }
   ],
   "source": [
    "nums = [9,3,6,4,3,1]\n",
    "\n",
    "min\n",
    "max\n",
    "sum\n",
    "\n",
    "print(min(nums))\n",
    "# prints the minimal number\n",
    "print(max(nums))\n",
    "# prints the maximal number\n",
    "print(sum(nums))\n",
    "# prints the sum of numbers\n",
    "\n"
   ]
  },
  {
   "cell_type": "code",
   "execution_count": 34,
   "metadata": {},
   "outputs": [
    {
     "name": "stdout",
     "output_type": "stream",
     "text": [
      "3\n",
      "False\n",
      "True\n"
     ]
    }
   ],
   "source": [
    "#finding index of values\n",
    "\n",
    "courses = ['History', 'Math', 'Physics', 'CompSci']\n",
    "\n",
    "print(courses.index('CompSci'))\n",
    "\n",
    "#get true or false back, instead of error\n",
    "\n",
    "print('Art' in courses)\n",
    "print('Math' in courses)\n"
   ]
  },
  {
   "cell_type": "code",
   "execution_count": 35,
   "metadata": {},
   "outputs": [
    {
     "name": "stdout",
     "output_type": "stream",
     "text": [
      "History\n",
      "Math\n",
      "Physics\n",
      "CompSci\n"
     ]
    }
   ],
   "source": [
    "courses = ['History', 'Math', 'Physics', 'CompSci']\n",
    "\n",
    "for item in courses:\n",
    "    print(item)"
   ]
  },
  {
   "cell_type": "code",
   "execution_count": 38,
   "metadata": {},
   "outputs": [
    {
     "name": "stdout",
     "output_type": "stream",
     "text": [
      "0 History\n",
      "1 Math\n",
      "2 Physics\n",
      "3 CompSci\n"
     ]
    }
   ],
   "source": [
    "courses = ['History', 'Math', 'Physics', 'CompSci']\n",
    "\n",
    "for index, course in enumerate(courses):\n",
    "    print(index, course)"
   ]
  },
  {
   "cell_type": "code",
   "execution_count": 39,
   "metadata": {},
   "outputs": [
    {
     "name": "stdout",
     "output_type": "stream",
     "text": [
      "1 History\n",
      "2 Math\n",
      "3 Physics\n",
      "4 CompSci\n"
     ]
    }
   ],
   "source": [
    "courses = ['History', 'Math', 'Physics', 'CompSci']\n",
    "\n",
    "for index, course in enumerate(courses, start=1):\n",
    "    print(index, course)"
   ]
  },
  {
   "cell_type": "code",
   "execution_count": 43,
   "metadata": {},
   "outputs": [
    {
     "name": "stdout",
     "output_type": "stream",
     "text": [
      "History, Math, Physics, CompSci\n",
      "['History', 'Math', 'Physics', 'CompSci']\n"
     ]
    }
   ],
   "source": [
    "courses = ['History', 'Math', 'Physics', 'CompSci']\n",
    "\n",
    "course_string = ', '.join(courses)\n",
    "\n",
    "new_list = course_string.split(', ')\n",
    "\n",
    "print(course_string)\n",
    "print(new_list)"
   ]
  },
  {
   "cell_type": "code",
   "execution_count": 45,
   "metadata": {},
   "outputs": [
    {
     "name": "stdout",
     "output_type": "stream",
     "text": [
      "['History', 'Math', 'Physics', 'CompSci']\n",
      "['History', 'Math', 'Physics', 'CompSci']\n",
      "['Art', 'Math', 'Physics', 'CompSci']\n",
      "['Art', 'Math', 'Physics', 'CompSci']\n"
     ]
    }
   ],
   "source": [
    "#cannot modify tulpes (immutable)\n",
    "# lists are mutable (modifying is possible)\n",
    "\n",
    "list_1 = ['History', 'Math', 'Physics', 'CompSci']\n",
    "list_2 = list_1\n",
    "\n",
    "print(list_1)\n",
    "print(list_2)\n",
    "\n",
    "\n",
    "list_1[0] = 'Art'\n",
    "\n",
    "print(list_1)\n",
    "print(list_2)\n"
   ]
  },
  {
   "cell_type": "code",
   "execution_count": 57,
   "metadata": {},
   "outputs": [
    {
     "name": "stdout",
     "output_type": "stream",
     "text": [
      "('History', 'Math', 'Physics', 'CompSci')\n",
      "['Art', 'Math', 'Physics', 'CompSci']\n"
     ]
    },
    {
     "ename": "TypeError",
     "evalue": "'tuple' object does not support item assignment",
     "output_type": "error",
     "traceback": [
      "\u001b[1;31m---------------------------------------------------------------------------\u001b[0m",
      "\u001b[1;31mTypeError\u001b[0m                                 Traceback (most recent call last)",
      "\u001b[1;32m<ipython-input-57-1a134c152229>\u001b[0m in \u001b[0;36m<module>\u001b[1;34m\u001b[0m\n\u001b[0;32m      5\u001b[0m \u001b[0mprint\u001b[0m\u001b[1;33m(\u001b[0m\u001b[0mtuple_2\u001b[0m\u001b[1;33m)\u001b[0m\u001b[1;33m\u001b[0m\u001b[1;33m\u001b[0m\u001b[0m\n\u001b[0;32m      6\u001b[0m \u001b[1;33m\u001b[0m\u001b[0m\n\u001b[1;32m----> 7\u001b[1;33m \u001b[0mtuple_1\u001b[0m\u001b[1;33m[\u001b[0m\u001b[1;36m0\u001b[0m\u001b[1;33m]\u001b[0m \u001b[1;33m=\u001b[0m \u001b[1;34m'Art'\u001b[0m\u001b[1;33m\u001b[0m\u001b[1;33m\u001b[0m\u001b[0m\n\u001b[0m\u001b[0;32m      8\u001b[0m \u001b[1;33m\u001b[0m\u001b[0m\n\u001b[0;32m      9\u001b[0m \u001b[0mprint\u001b[0m\u001b[1;33m(\u001b[0m\u001b[0mtuple_1\u001b[0m\u001b[1;33m)\u001b[0m\u001b[1;33m\u001b[0m\u001b[1;33m\u001b[0m\u001b[0m\n",
      "\u001b[1;31mTypeError\u001b[0m: 'tuple' object does not support item assignment"
     ]
    }
   ],
   "source": [
    "#TUPLES\n",
    "\n",
    "tuple_1 = ('History', 'Math', 'Physics', 'CompSci')\n",
    "tuple_2 = list_1\n",
    "\n",
    "print(tuple_1)\n",
    "print(tuple_2)\n",
    "\n",
    "tuple_1[0] = 'Art' # gives error because tulpes are immutable\n",
    "\n",
    "print(tuple_1)\n",
    "print(tuple_2)\n",
    "\n",
    "#"
   ]
  },
  {
   "cell_type": "code",
   "execution_count": 53,
   "metadata": {},
   "outputs": [
    {
     "name": "stdout",
     "output_type": "stream",
     "text": [
      "{'Math', 'CompSci', 'Physics', 'History'}\n",
      "True\n"
     ]
    }
   ],
   "source": [
    "# sets are unordered (random) and contain no duplicates\n",
    "# membership test\n",
    "\n",
    "cs_courses = {'History', 'Math', 'Physics', 'CompSci', 'Math'}\n",
    "\n",
    "print(cs_courses)\n",
    "\n",
    "print('Math' in cs_courses)\n",
    "\n"
   ]
  },
  {
   "cell_type": "code",
   "execution_count": 56,
   "metadata": {},
   "outputs": [
    {
     "name": "stdout",
     "output_type": "stream",
     "text": [
      "{'Math', 'History'}\n",
      "{'Physics', 'CompSci'}\n",
      "{'Math', 'CompSci', 'Design', 'Physics', 'Art', 'History'}\n"
     ]
    }
   ],
   "source": [
    "cs_courses = {'History', 'Math', 'Physics', 'CompSci'}\n",
    "art_courses = {'History', 'Math', 'Art', 'Design'}\n",
    "\n",
    "\n",
    "print(cs_courses.intersection(art_courses))\n",
    "print(cs_courses.difference(art_courses))\n",
    "print(cs_courses.union(art_courses))\n"
   ]
  },
  {
   "cell_type": "code",
   "execution_count": null,
   "metadata": {
    "collapsed": true
   },
   "outputs": [],
   "source": [
    "# create empty lists, tuples and sets\n",
    "\n",
    "empty_list = []\n",
    "empty_list = list()\n",
    "\n",
    "empty_tuple = ()\n",
    "empty_tuple = tuple()\n",
    "\n",
    "empty_set = {}  #This isnt right! It's a dictionary\n",
    "empty_set = set()"
   ]
  },
  {
   "cell_type": "code",
   "execution_count": 3,
   "metadata": {},
   "outputs": [
    {
     "name": "stdout",
     "output_type": "stream",
     "text": [
      "{'name': 'John', 'age': 25, 'courses': ['Math', 'CompSci']}\n",
      "John\n",
      "['Math', 'CompSci']\n"
     ]
    }
   ],
   "source": [
    "# DICTIONARIES\n",
    "\n",
    "# Start dictionary by:\n",
    "student = {'name': 'John', 'age': 25, 'courses': ['Math', 'CompSci']}\n",
    "# this dictionary contains a string, a number, and a list --> can be any unmutable data type\n",
    "# you can also have a number as key --> so change 'name' into 1 --> {1: 'John', ...} and print(student[1]) --> will return John\n",
    "\n",
    "print(student)\n",
    "print(student['name'])\n",
    "print(student['courses'])\n",
    "\n"
   ]
  },
  {
   "cell_type": "code",
   "execution_count": 6,
   "metadata": {},
   "outputs": [
    {
     "name": "stdout",
     "output_type": "stream",
     "text": [
      "{'name': 'John', 'age': 25, 'courses': ['Math', 'CompSci']}\n",
      "John\n",
      "['Math', 'CompSci']\n",
      "John\n",
      "None\n",
      "Not Found\n"
     ]
    }
   ],
   "source": [
    "student = {'name': 'John', 'age': 25, 'courses': ['Math', 'CompSci']}\n",
    "\n",
    "print(student)\n",
    "print(student['name'])\n",
    "print(student['courses'])\n",
    "#print(student['phone']) # get error code KeyError: 'phone'\n",
    "# to prevent error code, use get() method --> will return None\n",
    "print(student.get('name'))\n",
    "print(student.get('phone'))\n",
    "# .get(value, not found message) you can specify a message displayed when the value is not found\n",
    "print(student.get('phone', 'Not Found'))"
   ]
  },
  {
   "cell_type": "code",
   "execution_count": 12,
   "metadata": {},
   "outputs": [
    {
     "name": "stdout",
     "output_type": "stream",
     "text": [
      "{'name': 'Jane', 'age': 25, 'courses': ['Math', 'CompSci'], 'phone': '555-5555'}\n",
      "{'name': 'Mary', 'age': 26, 'courses': ['Math', 'CompSci'], 'phone': 0}\n"
     ]
    }
   ],
   "source": [
    "student = {'name': 'John', 'age': 25, 'courses': ['Math', 'CompSci']}\n",
    "\n",
    "# to modify a dictionary do this:\n",
    "student['phone'] = '555-5555'\n",
    "student['name'] = 'Jane'\n",
    "print(student)\n",
    "\n",
    "#update multiple values in one time\n",
    "student.update({'name': 'Mary', 'age': 26, 'phone':111-111})\n",
    "\n",
    "print(student)"
   ]
  },
  {
   "cell_type": "code",
   "execution_count": 14,
   "metadata": {},
   "outputs": [
    {
     "name": "stdout",
     "output_type": "stream",
     "text": [
      "{'name': 'John', 'courses': ['Math', 'CompSci']}\n",
      "{'name': 'John'}\n",
      "['Math', 'CompSci']\n"
     ]
    }
   ],
   "source": [
    "student = {'name': 'John', 'age': 25, 'courses': ['Math', 'CompSci']}\n",
    "\n",
    "print(student)\n",
    "\n",
    "\n",
    "#delete specific key and its value\n",
    "\n",
    "del student['age']\n",
    "\n",
    "print(student)\n",
    "\n",
    "# option 2 to delete specific key and its value and show the deleted value\n",
    "\n",
    "pop = student.pop('courses')\n",
    "print(student)\n",
    "print(pop)"
   ]
  },
  {
   "cell_type": "code",
   "execution_count": 18,
   "metadata": {},
   "outputs": [
    {
     "name": "stdout",
     "output_type": "stream",
     "text": [
      "3\n",
      "dict_keys(['name', 'age', 'courses'])\n",
      "dict_values(['John', 25, ['Math', 'CompSci']])\n",
      "dict_items([('name', 'John'), ('age', 25), ('courses', ['Math', 'CompSci'])])\n"
     ]
    }
   ],
   "source": [
    "#loop through all the keys and values of the dictionary\n",
    "\n",
    "student = {'name': 'John', 'age': 25, 'courses': ['Math', 'CompSci']}\n",
    "\n",
    "#how many keys in dict\n",
    "print(len(student))\n",
    "\n",
    "#print all keyw\n",
    "print(student.keys())\n",
    "\n",
    "# print all values\n",
    "print(student.values())\n",
    "\n",
    "# print keys and values\n",
    "print(student.items())\n"
   ]
  },
  {
   "cell_type": "code",
   "execution_count": 21,
   "metadata": {},
   "outputs": [
    {
     "name": "stdout",
     "output_type": "stream",
     "text": [
      "name\n",
      "age\n",
      "courses\n",
      "name John\n",
      "age 25\n",
      "courses ['Math', 'CompSci']\n"
     ]
    }
   ],
   "source": [
    "#loop through all the keys and values of the dictionary, \n",
    "# not same was as lists --> then only keys will be looped through\n",
    "\n",
    "student = {'name': 'John', 'age': 25, 'courses': ['Math', 'CompSci']}\n",
    "\n",
    "# same method as lists looop --> prints only keys\n",
    "for key in student:\n",
    "    print(key)\n",
    "    \n",
    "# we want to see keys and values --> use .items()\n",
    "for key, value in student.items():\n",
    "    print(key, value)"
   ]
  },
  {
   "cell_type": "code",
   "execution_count": 24,
   "metadata": {},
   "outputs": [
    {
     "name": "stdout",
     "output_type": "stream",
     "text": [
      "Conditional was True\n",
      "Condition is True\n"
     ]
    }
   ],
   "source": [
    "# Conditionals, control which statements are executed, booleans\n",
    "\n",
    "if True:\n",
    "    print('Conditional was True')\n",
    "    \n",
    "if False:\n",
    "    print('Conditional was True')\n",
    "    # --> is not printed anything\n",
    "\n",
    "language = 'Python'\n",
    "\n",
    "if language == 'Python': # == because equality testing\n",
    "    print('Condition is True')"
   ]
  },
  {
   "cell_type": "code",
   "execution_count": 27,
   "metadata": {},
   "outputs": [
    {
     "name": "stdout",
     "output_type": "stream",
     "text": [
      "Language is Python\n"
     ]
    }
   ],
   "source": [
    "# Comparisons:\n",
    "# Equal:==\n",
    "# Not Equal: !=\n",
    "# Greater than: >\n",
    "#...\n",
    "# Object Identity (if objects are the same identity, are the same objects in memory): is\n",
    "\n",
    "# If statements\n",
    "\n",
    "language = 'Python'\n",
    "\n",
    "if language == 'Python':\n",
    "    print('Language is Python')\n",
    "elif language == 'Java':\n",
    "    print('Language is Jave')\n",
    "else:\n",
    "    print('No match')\n"
   ]
  },
  {
   "cell_type": "code",
   "execution_count": 30,
   "metadata": {},
   "outputs": [
    {
     "name": "stdout",
     "output_type": "stream",
     "text": [
      "Bad Creds\n",
      "Admin Page\n",
      "Please log in\n"
     ]
    }
   ],
   "source": [
    "# and\n",
    "# or\n",
    "# not\n",
    "\n",
    "user = 'Admin'\n",
    "logged_in = False\n",
    "\n",
    "if user == 'Admin' and logged_in:\n",
    "    print('Admin Page')\n",
    "else:\n",
    "    print('Bad Creds')\n",
    "    \n",
    "\n",
    "if user == 'Admin' or logged_in:\n",
    "    print('Admin Page')\n",
    "else:\n",
    "    print('Bad Creds')\n",
    "    \n",
    "\n",
    "if not logged_in:\n",
    "    print('Please log in')\n",
    "else:\n",
    "    print('Welcome')"
   ]
  },
  {
   "cell_type": "code",
   "execution_count": 35,
   "metadata": {},
   "outputs": [
    {
     "name": "stdout",
     "output_type": "stream",
     "text": [
      "True\n",
      "False\n",
      "3056608133312\n",
      "3056608135360\n",
      "3056608113536\n",
      "3056608113536\n",
      "True\n"
     ]
    }
   ],
   "source": [
    "# is vs ==\n",
    "\n",
    "a = [1, 2, 3]\n",
    "b = [1, 2, 3]\n",
    "\n",
    "print(a==b)\n",
    "print(a is b)\n",
    "\n",
    "# Are two different objects in id\n",
    "\n",
    "print(id(a))\n",
    "print(id(b))\n",
    "\n",
    "\n",
    "a = [1, 2, 3]\n",
    "b = a\n",
    "\n",
    "print(id(a))\n",
    "print(id(b))\n",
    "#now same objects in memory\n",
    "print(id(a) == id(b))\n",
    "# so a is b can be translated as id(a) == id(b)"
   ]
  },
  {
   "cell_type": "code",
   "execution_count": 36,
   "metadata": {},
   "outputs": [
    {
     "name": "stdout",
     "output_type": "stream",
     "text": [
      "False\n"
     ]
    }
   ],
   "source": [
    "# False Values\n",
    "# False\n",
    "# None\n",
    "# Zero of any numeric type\n",
    "# Any empty sequence. For example, '', (), [].\n",
    "# Any empty mapping. For example, {}\n",
    "\n",
    "# All return False in an if condition\n",
    "condition = {}\n",
    "if condition:\n",
    "    print('True')\n",
    "else:\n",
    "    print('False')"
   ]
  },
  {
   "cell_type": "code",
   "execution_count": 42,
   "metadata": {},
   "outputs": [
    {
     "name": "stdout",
     "output_type": "stream",
     "text": [
      "1\n",
      "2\n",
      "3\n",
      "4\n",
      "5\n",
      "1\n",
      "2\n",
      "Found!\n",
      "1\n",
      "2\n",
      "3\n",
      "Found!\n",
      "1\n",
      "2\n",
      "Found!\n",
      "4\n",
      "5\n"
     ]
    }
   ],
   "source": [
    "# loops and iterations\n",
    "#list of numbers\n",
    "\n",
    "nums = [1,2,3,4,5]\n",
    "\n",
    "# loop through the list\n",
    "for num in nums:\n",
    "    print(num)\n",
    "\n",
    "# break and continue statement\n",
    "# break: search for value and stop when found\n",
    "for num in nums:\n",
    "    if num == 3:\n",
    "        print('Found!')\n",
    "        break\n",
    "    print(num)\n",
    "\n",
    "# to print also the final number put print before \n",
    "for num in nums:\n",
    "    print(num)\n",
    "    if num == 3:\n",
    "        print('Found!')\n",
    "        break\n",
    "    \n",
    "    \n",
    "# continue: go to next iteration in loop\n",
    "for num in nums:\n",
    "    if num == 3:\n",
    "        print('Found!')\n",
    "        continue\n",
    "    print(num)"
   ]
  },
  {
   "cell_type": "code",
   "execution_count": 46,
   "metadata": {},
   "outputs": [
    {
     "name": "stdout",
     "output_type": "stream",
     "text": [
      "1 a\n",
      "1 b\n",
      "1 c\n",
      "2 a\n",
      "2 b\n",
      "2 c\n",
      "3 a\n",
      "3 b\n",
      "3 c\n",
      "4 a\n",
      "4 b\n",
      "4 c\n",
      "5 a\n",
      "5 b\n",
      "5 c\n"
     ]
    }
   ],
   "source": [
    "# loop within loop\n",
    "nums = [1,2,3,4,5]\n",
    "\n",
    "#every combination of numbers with letters\n",
    "for num in nums:\n",
    "    for letter in 'abc':\n",
    "        print(num, letter)"
   ]
  },
  {
   "cell_type": "code",
   "execution_count": 49,
   "metadata": {},
   "outputs": [
    {
     "name": "stdout",
     "output_type": "stream",
     "text": [
      "1\n",
      "2\n",
      "3\n",
      "4\n",
      "5\n",
      "6\n",
      "7\n",
      "8\n",
      "9\n",
      "10\n"
     ]
    }
   ],
   "source": [
    "#function range\n",
    "# run through a loop 10 times\n",
    "\n",
    "for i in range(1,11):\n",
    "    print(i)"
   ]
  },
  {
   "cell_type": "code",
   "execution_count": 51,
   "metadata": {},
   "outputs": [
    {
     "name": "stdout",
     "output_type": "stream",
     "text": [
      "0\n",
      "1\n",
      "2\n",
      "3\n",
      "4\n",
      "5\n",
      "6\n",
      "7\n",
      "8\n",
      "9\n"
     ]
    }
   ],
   "source": [
    "# while loops\n",
    "# keep going untill certain condition / break is hit\n",
    "\n",
    "x = 0\n",
    "\n",
    "while x < 10:\n",
    "    print(x)\n",
    "    x += 1\n",
    "\n",
    "# always put in condition that ends, else endless loop"
   ]
  },
  {
   "cell_type": "code",
   "execution_count": 53,
   "metadata": {},
   "outputs": [
    {
     "name": "stdout",
     "output_type": "stream",
     "text": [
      "0\n",
      "1\n",
      "2\n",
      "3\n",
      "4\n"
     ]
    }
   ],
   "source": [
    "# break before by break statement\n",
    "x=0\n",
    "\n",
    "while x < 10:\n",
    "    if x == 5:\n",
    "        break\n",
    "    print(x)\n",
    "    x += 1\n"
   ]
  },
  {
   "cell_type": "code",
   "execution_count": 54,
   "metadata": {},
   "outputs": [
    {
     "name": "stdout",
     "output_type": "stream",
     "text": [
      "0\n",
      "1\n",
      "2\n",
      "3\n",
      "4\n"
     ]
    }
   ],
   "source": [
    "# infident loop untill input / find value\n",
    "x=0\n",
    "\n",
    "while True:\n",
    "    if x == 5:\n",
    "        break\n",
    "    print(x)\n",
    "    x += 1\n",
    "    \n",
    "# when you are stuck in an infident loop you can stop the loop by pressing ctrl + c"
   ]
  },
  {
   "cell_type": "code",
   "execution_count": 15,
   "metadata": {},
   "outputs": [
    {
     "name": "stdout",
     "output_type": "stream",
     "text": [
      "HELLO FUNCTION.\n",
      "4\n"
     ]
    }
   ],
   "source": [
    "# functions\n",
    "# machine that takes input and executes a result\n",
    "\n",
    "def hello_func():\n",
    "    return 'Hello Function.' \n",
    "    \n",
    "print(hello_func().upper())\n",
    "\n",
    "print(len('Test'))"
   ]
  },
  {
   "cell_type": "code",
   "execution_count": 17,
   "metadata": {},
   "outputs": [
    {
     "name": "stdout",
     "output_type": "stream",
     "text": [
      "Hi function.\n"
     ]
    }
   ],
   "source": [
    "def hello_func(greeting):\n",
    "    return '{} function.'.format(greeting) \n",
    "    \n",
    "print(hello_func('Hi'))"
   ]
  },
  {
   "cell_type": "code",
   "execution_count": 20,
   "metadata": {},
   "outputs": [
    {
     "name": "stdout",
     "output_type": "stream",
     "text": [
      "Hi, Sanne.\n"
     ]
    }
   ],
   "source": [
    "def hello_func(greeting, name = 'You'):\n",
    "    return '{}, {}.'.format(greeting, name) \n",
    "    \n",
    "print(hello_func('Hi', name = 'Sanne'))\n",
    "\n",
    "# the function will take 'You' when no other name is given as input"
   ]
  },
  {
   "cell_type": "code",
   "execution_count": 22,
   "metadata": {},
   "outputs": [
    {
     "name": "stdout",
     "output_type": "stream",
     "text": [
      "('Math', 'Art')\n",
      "{'name': 'John', 'age': 22}\n"
     ]
    }
   ],
   "source": [
    "def student_info(*args, **kwargs):\n",
    "    print(args)\n",
    "    print(kwargs)\n",
    "\n",
    "# *args = tuple, **kwargs = dictionary\n",
    "# * in front of list unpack values an pass them in individually\n",
    "# ** before dictionary unpack values an pass them in individually\n",
    "\n",
    "student_info('Math', 'Art', name='John', age=22)"
   ]
  },
  {
   "cell_type": "code",
   "execution_count": 26,
   "metadata": {},
   "outputs": [
    {
     "name": "stdout",
     "output_type": "stream",
     "text": [
      "(['Math', 'Art'], {'name': 'John', 'age': 22})\n",
      "{}\n",
      "('Math', 'Art')\n",
      "{'name': 'John', 'age': 22}\n"
     ]
    }
   ],
   "source": [
    "def student_info(*args, **kwargs):\n",
    "    print(args)\n",
    "    print(kwargs)\n",
    "\n",
    "courses = ['Math', 'Art']\n",
    "info = {'name': 'John', 'age': 22}\n",
    "\n",
    "student_info(courses, info)\n",
    "student_info(*courses, **info)\n",
    "\n",
    "# * values list unpacked\n",
    "# ** dictionary values unpacked"
   ]
  },
  {
   "cell_type": "code",
   "execution_count": 27,
   "metadata": {},
   "outputs": [],
   "source": [
    "# \"\"\"\" doc string, describes what def is calculating \"\"\"\""
   ]
  },
  {
   "cell_type": "code",
   "execution_count": null,
   "metadata": {},
   "outputs": [],
   "source": [
    "# Import modules \n",
    "\n",
    "# import my_module as mm\n",
    "# from my_moduel import find_index, test\n",
    "# from my_model import find_index as fi\n",
    "# from my model import * --> not recommended\n",
    "\n",
    "# this function puts in a list to search and a target to find\n",
    "# create my_module.py in other file\n",
    "# def find_index(to_search, target):\n",
    "#     '''Find the index of a value in a sequence'''\n",
    "#     for i, value in enumerate(to_search):\n",
    "#         if value == target:\n",
    "#             return i\n",
    "#     return -1\n",
    "# print('Imported my_module...')\n",
    "\n",
    "# test = 'Test String'\n"
   ]
  },
  {
   "cell_type": "code",
   "execution_count": 34,
   "metadata": {},
   "outputs": [
    {
     "name": "stdout",
     "output_type": "stream",
     "text": [
      "1\n"
     ]
    }
   ],
   "source": [
    "import my_module as mm\n",
    "#import entire module\n",
    "\n",
    "courses = ['History', 'Math', 'Physics', 'CompSci']\n",
    "\n",
    "# find_index() is find the index number of the value 'Math' in courses\n",
    "# find_index(source, value to find)\n",
    "index = mm.find_index(courses, 'Math')\n",
    "print(index)"
   ]
  },
  {
   "cell_type": "code",
   "execution_count": 37,
   "metadata": {},
   "outputs": [
    {
     "name": "stdout",
     "output_type": "stream",
     "text": [
      "1\n",
      "Test String\n"
     ]
    }
   ],
   "source": [
    "from my_module import find_index, test\n",
    "#import only specific part(s) of module\n",
    "\n",
    "courses = ['History', 'Math', 'Physics', 'CompSci']\n",
    "\n",
    "index = find_index(courses, 'Math') # now the my_module./mm. can be removed because the def has been imported\n",
    "print(index)\n",
    "print(test)"
   ]
  },
  {
   "cell_type": "code",
   "execution_count": 39,
   "metadata": {},
   "outputs": [
    {
     "name": "stdout",
     "output_type": "stream",
     "text": [
      "1\n",
      "Test String\n",
      "['C:\\\\Data_Reskilling\\\\Git folder test', 'C:\\\\Users\\\\x007876\\\\Anaconda3\\\\python38.zip', 'C:\\\\Users\\\\x007876\\\\Anaconda3\\\\DLLs', 'C:\\\\Users\\\\x007876\\\\Anaconda3\\\\lib', 'C:\\\\Users\\\\x007876\\\\Anaconda3', '', 'C:\\\\Users\\\\x007876\\\\Anaconda3\\\\lib\\\\site-packages', 'C:\\\\Users\\\\x007876\\\\Anaconda3\\\\lib\\\\site-packages\\\\win32', 'C:\\\\Users\\\\x007876\\\\Anaconda3\\\\lib\\\\site-packages\\\\win32\\\\lib', 'C:\\\\Users\\\\x007876\\\\Anaconda3\\\\lib\\\\site-packages\\\\Pythonwin', 'C:\\\\Users\\\\x007876\\\\Anaconda3\\\\lib\\\\site-packages\\\\IPython\\\\extensions', 'C:\\\\Users\\\\x007876\\\\.ipython']\n"
     ]
    }
   ],
   "source": [
    "from my_module import find_index, test \n",
    "# to see which modules you can import without defining a paht import sys and print sys.path\n",
    "import sys\n",
    "\n",
    "courses = ['History', 'Math', 'Physics', 'CompSci']\n",
    "\n",
    "index = find_index(courses, 'Math') \n",
    "print(index)\n",
    "print(test)\n",
    "print(sys.path)"
   ]
  },
  {
   "cell_type": "code",
   "execution_count": 40,
   "metadata": {},
   "outputs": [
    {
     "name": "stdout",
     "output_type": "stream",
     "text": [
      "['C:\\\\Data_Reskilling\\\\Git folder test', 'C:\\\\Users\\\\x007876\\\\Anaconda3\\\\python38.zip', 'C:\\\\Users\\\\x007876\\\\Anaconda3\\\\DLLs', 'C:\\\\Users\\\\x007876\\\\Anaconda3\\\\lib', 'C:\\\\Users\\\\x007876\\\\Anaconda3', '', 'C:\\\\Users\\\\x007876\\\\Anaconda3\\\\lib\\\\site-packages', 'C:\\\\Users\\\\x007876\\\\Anaconda3\\\\lib\\\\site-packages\\\\win32', 'C:\\\\Users\\\\x007876\\\\Anaconda3\\\\lib\\\\site-packages\\\\win32\\\\lib', 'C:\\\\Users\\\\x007876\\\\Anaconda3\\\\lib\\\\site-packages\\\\Pythonwin', 'C:\\\\Users\\\\x007876\\\\Anaconda3\\\\lib\\\\site-packages\\\\IPython\\\\extensions', 'C:\\\\Users\\\\x007876\\\\.ipython', 'C:\\\\Data_Reskilling\\\\GIT Data_Reskilling']\n"
     ]
    }
   ],
   "source": [
    "# to import files outside the standard path directory\n",
    "# add the extra path to the list of system paths above\n",
    "import sys\n",
    "sys.path.append('C:\\\\Data_Reskilling\\\\GIT Data_Reskilling')\n",
    "\n",
    "print(sys.path)\n"
   ]
  },
  {
   "cell_type": "code",
   "execution_count": 43,
   "metadata": {},
   "outputs": [
    {
     "name": "stdout",
     "output_type": "stream",
     "text": [
      "Physics\n"
     ]
    }
   ],
   "source": [
    "# standard libraby modules to use in python\n",
    "\n",
    "import random\n",
    "\n",
    "random_course = random.choice(courses)\n",
    "\n",
    "print(random_course)"
   ]
  },
  {
   "cell_type": "code",
   "execution_count": 44,
   "metadata": {},
   "outputs": [
    {
     "name": "stdout",
     "output_type": "stream",
     "text": [
      "1.5707963267948966\n"
     ]
    }
   ],
   "source": [
    "import math\n",
    "\n",
    "rads = math.radians(90)\n",
    "\n",
    "print(rads)"
   ]
  },
  {
   "cell_type": "code",
   "execution_count": 47,
   "metadata": {},
   "outputs": [
    {
     "name": "stdout",
     "output_type": "stream",
     "text": [
      "2020-11-11\n",
      "False\n"
     ]
    }
   ],
   "source": [
    "import datetime\n",
    "import calendar\n",
    "\n",
    "today = datetime.date.today()\n",
    "print(today)\n",
    "\n",
    "print(calendar.isleap(2017))"
   ]
  },
  {
   "cell_type": "code",
   "execution_count": 49,
   "metadata": {},
   "outputs": [
    {
     "name": "stdout",
     "output_type": "stream",
     "text": [
      "C:\\Data_Reskilling\\Git folder test\n",
      "C:\\Users\\x007876\\Anaconda3\\lib\\os.py\n"
     ]
    }
   ],
   "source": [
    "#print current working directory\n",
    "import os\n",
    "\n",
    "print(os.getcwd())\n",
    "print(os.__file__)"
   ]
  },
  {
   "cell_type": "code",
   "execution_count": 52,
   "metadata": {},
   "outputs": [
    {
     "name": "stdout",
     "output_type": "stream",
     "text": [
      "C:\\Users\\x007876\\Anaconda3\\lib\\os.py\n"
     ]
    }
   ],
   "source": [
    "import antigravity\n",
    "\n",
    "print(os.__file__)"
   ]
  },
  {
   "cell_type": "code",
   "execution_count": 53,
   "metadata": {},
   "outputs": [],
   "source": [
    "import matplotlib.pyplot as plt\n",
    "plt.close('all')"
   ]
  },
  {
   "cell_type": "code",
   "execution_count": 55,
   "metadata": {},
   "outputs": [
    {
     "data": {
      "text/html": [
       "<div>\n",
       "<style scoped>\n",
       "    .dataframe tbody tr th:only-of-type {\n",
       "        vertical-align: middle;\n",
       "    }\n",
       "\n",
       "    .dataframe tbody tr th {\n",
       "        vertical-align: top;\n",
       "    }\n",
       "\n",
       "    .dataframe thead th {\n",
       "        text-align: right;\n",
       "    }\n",
       "</style>\n",
       "<table border=\"1\" class=\"dataframe\">\n",
       "  <thead>\n",
       "    <tr style=\"text-align: right;\">\n",
       "      <th></th>\n",
       "      <th>apples</th>\n",
       "      <th>oranges</th>\n",
       "    </tr>\n",
       "  </thead>\n",
       "  <tbody>\n",
       "    <tr>\n",
       "      <th>0</th>\n",
       "      <td>3</td>\n",
       "      <td>0</td>\n",
       "    </tr>\n",
       "    <tr>\n",
       "      <th>1</th>\n",
       "      <td>2</td>\n",
       "      <td>3</td>\n",
       "    </tr>\n",
       "    <tr>\n",
       "      <th>2</th>\n",
       "      <td>0</td>\n",
       "      <td>7</td>\n",
       "    </tr>\n",
       "    <tr>\n",
       "      <th>3</th>\n",
       "      <td>1</td>\n",
       "      <td>2</td>\n",
       "    </tr>\n",
       "  </tbody>\n",
       "</table>\n",
       "</div>"
      ],
      "text/plain": [
       "   apples  oranges\n",
       "0       3        0\n",
       "1       2        3\n",
       "2       0        7\n",
       "3       1        2"
      ]
     },
     "execution_count": 55,
     "metadata": {},
     "output_type": "execute_result"
    }
   ],
   "source": [
    "# creating DataFrames\n",
    "# use dict\n",
    "# each (key, value) item in data corresponds to a column in the resulting DataFrame\n",
    "# an index is created 0-3 but you can also create your own \n",
    "\n",
    "import pandas as pd\n",
    "\n",
    "data = {\n",
    "    'apples': [3, 2, 0, 1],\n",
    "    'oranges': [0, 3, 7, 2]\n",
    "}\n",
    "\n",
    "purchases = pd.DataFrame(data)\n",
    "\n",
    "purchases\n",
    "\n",
    "# each (key, value) item in data corresponds to a column in the resulting DataFrame\n",
    "# an index is created 0-3 but you can also create your own (see next)"
   ]
  },
  {
   "cell_type": "code",
   "execution_count": 59,
   "metadata": {},
   "outputs": [
    {
     "data": {
      "text/html": [
       "<div>\n",
       "<style scoped>\n",
       "    .dataframe tbody tr th:only-of-type {\n",
       "        vertical-align: middle;\n",
       "    }\n",
       "\n",
       "    .dataframe tbody tr th {\n",
       "        vertical-align: top;\n",
       "    }\n",
       "\n",
       "    .dataframe thead th {\n",
       "        text-align: right;\n",
       "    }\n",
       "</style>\n",
       "<table border=\"1\" class=\"dataframe\">\n",
       "  <thead>\n",
       "    <tr style=\"text-align: right;\">\n",
       "      <th></th>\n",
       "      <th>apples</th>\n",
       "      <th>oranges</th>\n",
       "    </tr>\n",
       "  </thead>\n",
       "  <tbody>\n",
       "    <tr>\n",
       "      <th>June</th>\n",
       "      <td>3</td>\n",
       "      <td>0</td>\n",
       "    </tr>\n",
       "    <tr>\n",
       "      <th>Robert</th>\n",
       "      <td>2</td>\n",
       "      <td>3</td>\n",
       "    </tr>\n",
       "    <tr>\n",
       "      <th>Lily</th>\n",
       "      <td>0</td>\n",
       "      <td>7</td>\n",
       "    </tr>\n",
       "    <tr>\n",
       "      <th>David</th>\n",
       "      <td>1</td>\n",
       "      <td>2</td>\n",
       "    </tr>\n",
       "  </tbody>\n",
       "</table>\n",
       "</div>"
      ],
      "text/plain": [
       "        apples  oranges\n",
       "June         3        0\n",
       "Robert       2        3\n",
       "Lily         0        7\n",
       "David        1        2"
      ]
     },
     "execution_count": 59,
     "metadata": {},
     "output_type": "execute_result"
    }
   ],
   "source": [
    "# create own index\n",
    "data = {\n",
    "    'apples': [3, 2, 0, 1],\n",
    "    'oranges': [0, 3, 7, 2]\n",
    "}\n",
    "\n",
    "purchases = pd.DataFrame(data, index=['June', 'Robert', 'Lily', 'David'])\n",
    "#now you can locate a cutomers order by using their name\n",
    "purchases"
   ]
  },
  {
   "cell_type": "code",
   "execution_count": 61,
   "metadata": {},
   "outputs": [
    {
     "data": {
      "text/html": [
       "<div>\n",
       "<style scoped>\n",
       "    .dataframe tbody tr th:only-of-type {\n",
       "        vertical-align: middle;\n",
       "    }\n",
       "\n",
       "    .dataframe tbody tr th {\n",
       "        vertical-align: top;\n",
       "    }\n",
       "\n",
       "    .dataframe thead th {\n",
       "        text-align: right;\n",
       "    }\n",
       "</style>\n",
       "<table border=\"1\" class=\"dataframe\">\n",
       "  <thead>\n",
       "    <tr style=\"text-align: right;\">\n",
       "      <th></th>\n",
       "      <th>Unnamed: 0</th>\n",
       "      <th>apples</th>\n",
       "      <th>oranges</th>\n",
       "    </tr>\n",
       "  </thead>\n",
       "  <tbody>\n",
       "    <tr>\n",
       "      <th>0</th>\n",
       "      <td>June</td>\n",
       "      <td>3</td>\n",
       "      <td>0</td>\n",
       "    </tr>\n",
       "    <tr>\n",
       "      <th>1</th>\n",
       "      <td>Robert</td>\n",
       "      <td>2</td>\n",
       "      <td>3</td>\n",
       "    </tr>\n",
       "    <tr>\n",
       "      <th>2</th>\n",
       "      <td>Lily</td>\n",
       "      <td>0</td>\n",
       "      <td>7</td>\n",
       "    </tr>\n",
       "    <tr>\n",
       "      <th>3</th>\n",
       "      <td>David</td>\n",
       "      <td>1</td>\n",
       "      <td>2</td>\n",
       "    </tr>\n",
       "  </tbody>\n",
       "</table>\n",
       "</div>"
      ],
      "text/plain": [
       "  Unnamed: 0  apples  oranges\n",
       "0       June       3        0\n",
       "1     Robert       2        3\n",
       "2       Lily       0        7\n",
       "3      David       1        2"
      ]
     },
     "execution_count": 61,
     "metadata": {},
     "output_type": "execute_result"
    }
   ],
   "source": [
    "# Reading data from CSVs\n",
    "\n",
    "df = pd.read_csv('purchases.csv')\n",
    "df"
   ]
  },
  {
   "cell_type": "code",
   "execution_count": 62,
   "metadata": {},
   "outputs": [
    {
     "data": {
      "text/html": [
       "<div>\n",
       "<style scoped>\n",
       "    .dataframe tbody tr th:only-of-type {\n",
       "        vertical-align: middle;\n",
       "    }\n",
       "\n",
       "    .dataframe tbody tr th {\n",
       "        vertical-align: top;\n",
       "    }\n",
       "\n",
       "    .dataframe thead th {\n",
       "        text-align: right;\n",
       "    }\n",
       "</style>\n",
       "<table border=\"1\" class=\"dataframe\">\n",
       "  <thead>\n",
       "    <tr style=\"text-align: right;\">\n",
       "      <th></th>\n",
       "      <th>apples</th>\n",
       "      <th>oranges</th>\n",
       "    </tr>\n",
       "  </thead>\n",
       "  <tbody>\n",
       "    <tr>\n",
       "      <th>June</th>\n",
       "      <td>3</td>\n",
       "      <td>0</td>\n",
       "    </tr>\n",
       "    <tr>\n",
       "      <th>Robert</th>\n",
       "      <td>2</td>\n",
       "      <td>3</td>\n",
       "    </tr>\n",
       "    <tr>\n",
       "      <th>Lily</th>\n",
       "      <td>0</td>\n",
       "      <td>7</td>\n",
       "    </tr>\n",
       "    <tr>\n",
       "      <th>David</th>\n",
       "      <td>1</td>\n",
       "      <td>2</td>\n",
       "    </tr>\n",
       "  </tbody>\n",
       "</table>\n",
       "</div>"
      ],
      "text/plain": [
       "        apples  oranges\n",
       "June         3        0\n",
       "Robert       2        3\n",
       "Lily         0        7\n",
       "David        1        2"
      ]
     },
     "execution_count": 62,
     "metadata": {},
     "output_type": "execute_result"
    }
   ],
   "source": [
    "# CSVs don't have indexes like DataFrames --> need to designate index_col\n",
    "# setting the index column to be column zero\n",
    "\n",
    "df = pd.read_csv('purchases.csv', index_col=0)\n",
    "df"
   ]
  },
  {
   "cell_type": "code",
   "execution_count": null,
   "metadata": {},
   "outputs": [],
   "source": [
    "# Reading data from JSON files\n",
    "# JSON is essentially a stored Python dict\n",
    "\n",
    "df = pd.read_json('name.json')\n",
    "df\n",
    "\n",
    "# Pandas will try to figure out how to create a DataFrame by analyzing structure of your JSON, \n",
    "# and sometimes it doesn't get it right. \n",
    "# Often you'll need to set the orient keyword argument depending on the structure"
   ]
  },
  {
   "cell_type": "code",
   "execution_count": null,
   "metadata": {},
   "outputs": [],
   "source": [
    "# Reading data from a SQL database\n",
    "# establisch connection using an appropriate Python libraby\n",
    "# first need to install right pythonlibrary for making connections to the used SQL server\n",
    "# make a connection to a database URI\n",
    "\n",
    "import library (python libraby needed)\n",
    "con = library.connect(\"database.db\")\n",
    "\n",
    "df = pd.read_sql_query(\"SELECT * FROM purchases\", con)\n",
    "df = df.set_index('index') #to remove the index column (or use index_col='index')\n",
    "\n",
    "df"
   ]
  },
  {
   "cell_type": "code",
   "execution_count": null,
   "metadata": {},
   "outputs": [],
   "source": [
    "# Converting back to a CSV, JSON, or SQL\n",
    "df.to_csv('new_purchases.csv')\n",
    "# creates new file\n",
    "df.to_json('new_purchases.json')\n",
    "# creates new file\n",
    "df.to_sql('new_purchases', con)\n",
    "# inserting a new table using the con variable from before"
   ]
  }
 ],
 "metadata": {
  "kernelspec": {
   "display_name": "Python 3",
   "language": "python",
   "name": "python3"
  },
  "language_info": {
   "codemirror_mode": {
    "name": "ipython",
    "version": 3
   },
   "file_extension": ".py",
   "mimetype": "text/x-python",
   "name": "python",
   "nbconvert_exporter": "python",
   "pygments_lexer": "ipython3",
   "version": "3.8.3"
  }
 },
 "nbformat": 4,
 "nbformat_minor": 4
}
