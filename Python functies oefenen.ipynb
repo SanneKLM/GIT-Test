{
 "cells": [
  {
   "cell_type": "code",
   "execution_count": 14,
   "metadata": {},
   "outputs": [
    {
     "name": "stdout",
     "output_type": "stream",
     "text": [
      "History\n",
      "4\n",
      "CompSci\n",
      "['History', 'Math']\n",
      "['History', 'Math']\n",
      "['Physics']\n"
     ]
    }
   ],
   "source": [
    "courses = ['History', 'Math', 'Physics', 'CompSci']\n",
    "print(courses[0])\n",
    "print(len(courses))\n",
    "#slicing --> reverse and skipping video\n",
    "print(courses[-1])\n",
    "print(courses[0:2])\n",
    "print(courses[:2])\n",
    "print(courses[2:-1])"
   ]
  },
  {
   "cell_type": "code",
   "execution_count": 18,
   "metadata": {},
   "outputs": [
    {
     "name": "stdout",
     "output_type": "stream",
     "text": [
      "[['Art', 'Education'], 'Biology', ['Art', 'Education'], 'Biology', 'History', 'Math', 'Physics', 'CompSci', 'Art', 'Art']\n",
      "['Art', 'Education']\n"
     ]
    }
   ],
   "source": [
    "courses.append('Art')\n",
    "courses.insert(0, 'Biology')\n",
    "#insert and append will multiply values if run multiple times seperately\n",
    "courses_2 = ['Art', 'Education']\n",
    "courses.insert(0, courses_2)\n",
    "\n",
    "\n",
    "print(courses)\n",
    "print(courses[0])"
   ]
  },
  {
   "cell_type": "code",
   "execution_count": 19,
   "metadata": {},
   "outputs": [
    {
     "name": "stdout",
     "output_type": "stream",
     "text": [
      "['History', 'Math', 'Physics', 'CompSci', 'Art', 'Education']\n"
     ]
    }
   ],
   "source": [
    "courses = ['History', 'Math', 'Physics', 'CompSci']\n",
    "courses_2 = ['Art', 'Education']\n",
    "\n",
    "courses.extend(courses_2)\n",
    "\n",
    "print(courses)"
   ]
  },
  {
   "cell_type": "code",
   "execution_count": null,
   "metadata": {},
   "outputs": [],
   "source": [
    "# append and insert will add the list values in one list [], so if you have more then 1 value it will be added as [value1, value2] instead of [value1],[value2]\n",
    "# use extend for this"
   ]
  },
  {
   "cell_type": "code",
   "execution_count": 22,
   "metadata": {},
   "outputs": [
    {
     "name": "stdout",
     "output_type": "stream",
     "text": [
      "['History', 'Math', 'Physics', 'CompSci', 'Art', 'Education']\n",
      "Art\n",
      "['History', 'Physics', 'CompSci']\n"
     ]
    }
   ],
   "source": [
    "courses = ['History', 'Math', 'Physics', 'CompSci']\n",
    "courses_2 = ['Art', 'Education']\n",
    "\n",
    "courses.extend(courses_2)\n",
    "print(courses)\n",
    "#removing specific value\n",
    "courses.remove('Math')\n",
    "# removing last value of list\n",
    "courses.pop()\n",
    "\n",
    "popped = courses.pop()\n",
    "print(popped)\n",
    "\n",
    "print(courses)"
   ]
  },
  {
   "cell_type": "code",
   "execution_count": 26,
   "metadata": {},
   "outputs": [
    {
     "name": "stdout",
     "output_type": "stream",
     "text": [
      "['Physics', 'Math', 'History', 'CompSci']\n",
      "[9, 6, 4, 3, 3, 1]\n"
     ]
    }
   ],
   "source": [
    "courses = ['History', 'Math', 'Physics', 'CompSci']\n",
    "nums = [9,3,6,4,3,1]\n",
    "\n",
    "courses.reverse()\n",
    "# last item first, reversed list\n",
    "\n",
    "courses.sort()\n",
    "# sorted in alphabetic order or number\n",
    "nums.sort()\n",
    "# sort in descending way\n",
    "courses.sort(reverse=True)\n",
    "nums.sort(reverse=True)\n",
    "\n",
    "#these functions will sort the list courses\n",
    "\n",
    "print(courses)\n",
    "print(nums)"
   ]
  },
  {
   "cell_type": "code",
   "execution_count": 28,
   "metadata": {},
   "outputs": [
    {
     "name": "stdout",
     "output_type": "stream",
     "text": [
      "['History', 'Math', 'Physics', 'CompSci']\n",
      "['CompSci', 'History', 'Math', 'Physics']\n"
     ]
    }
   ],
   "source": [
    "# to leave the original list alone and sort seperately\n",
    "\n",
    "courses = ['History', 'Math', 'Physics', 'CompSci']\n",
    "nums = [9,3,6,4,3,1]\n",
    "\n",
    "sorted_courses = sorted(courses)\n",
    "\n",
    "print(courses)\n",
    "#courses is still not sorted, because the original list is not changed\n",
    "print(sorted_courses)"
   ]
  },
  {
   "cell_type": "code",
   "execution_count": 31,
   "metadata": {},
   "outputs": [
    {
     "name": "stdout",
     "output_type": "stream",
     "text": [
      "1\n",
      "9\n",
      "26\n"
     ]
    }
   ],
   "source": [
    "nums = [9,3,6,4,3,1]\n",
    "\n",
    "min\n",
    "max\n",
    "sum\n",
    "\n",
    "print(min(nums))\n",
    "# prints the minimal number\n",
    "print(max(nums))\n",
    "# prints the maximal number\n",
    "print(sum(nums))\n",
    "# prints the sum of numbers\n",
    "\n"
   ]
  },
  {
   "cell_type": "code",
   "execution_count": 34,
   "metadata": {},
   "outputs": [
    {
     "name": "stdout",
     "output_type": "stream",
     "text": [
      "3\n",
      "False\n",
      "True\n"
     ]
    }
   ],
   "source": [
    "#finding index of values\n",
    "\n",
    "courses = ['History', 'Math', 'Physics', 'CompSci']\n",
    "\n",
    "print(courses.index('CompSci'))\n",
    "\n",
    "#get true or false back, instead of error\n",
    "\n",
    "print('Art' in courses)\n",
    "print('Math' in courses)\n"
   ]
  },
  {
   "cell_type": "code",
   "execution_count": 35,
   "metadata": {},
   "outputs": [
    {
     "name": "stdout",
     "output_type": "stream",
     "text": [
      "History\n",
      "Math\n",
      "Physics\n",
      "CompSci\n"
     ]
    }
   ],
   "source": [
    "courses = ['History', 'Math', 'Physics', 'CompSci']\n",
    "\n",
    "for item in courses:\n",
    "    print(item)"
   ]
  },
  {
   "cell_type": "code",
   "execution_count": 38,
   "metadata": {},
   "outputs": [
    {
     "name": "stdout",
     "output_type": "stream",
     "text": [
      "0 History\n",
      "1 Math\n",
      "2 Physics\n",
      "3 CompSci\n"
     ]
    }
   ],
   "source": [
    "courses = ['History', 'Math', 'Physics', 'CompSci']\n",
    "\n",
    "for index, course in enumerate(courses):\n",
    "    print(index, course)"
   ]
  },
  {
   "cell_type": "code",
   "execution_count": 39,
   "metadata": {},
   "outputs": [
    {
     "name": "stdout",
     "output_type": "stream",
     "text": [
      "1 History\n",
      "2 Math\n",
      "3 Physics\n",
      "4 CompSci\n"
     ]
    }
   ],
   "source": [
    "courses = ['History', 'Math', 'Physics', 'CompSci']\n",
    "\n",
    "for index, course in enumerate(courses, start=1):\n",
    "    print(index, course)"
   ]
  },
  {
   "cell_type": "code",
   "execution_count": 43,
   "metadata": {},
   "outputs": [
    {
     "name": "stdout",
     "output_type": "stream",
     "text": [
      "History, Math, Physics, CompSci\n",
      "['History', 'Math', 'Physics', 'CompSci']\n"
     ]
    }
   ],
   "source": [
    "courses = ['History', 'Math', 'Physics', 'CompSci']\n",
    "\n",
    "course_string = ', '.join(courses)\n",
    "\n",
    "new_list = course_string.split(', ')\n",
    "\n",
    "print(course_string)\n",
    "print(new_list)"
   ]
  },
  {
   "cell_type": "code",
   "execution_count": 45,
   "metadata": {},
   "outputs": [
    {
     "name": "stdout",
     "output_type": "stream",
     "text": [
      "['History', 'Math', 'Physics', 'CompSci']\n",
      "['History', 'Math', 'Physics', 'CompSci']\n",
      "['Art', 'Math', 'Physics', 'CompSci']\n",
      "['Art', 'Math', 'Physics', 'CompSci']\n"
     ]
    }
   ],
   "source": [
    "#cannot modify tulpes (immutable)\n",
    "# lists are mutable (modifying is possible)\n",
    "\n",
    "list_1 = ['History', 'Math', 'Physics', 'CompSci']\n",
    "list_2 = list_1\n",
    "\n",
    "print(list_1)\n",
    "print(list_2)\n",
    "\n",
    "\n",
    "list_1[0] = 'Art'\n",
    "\n",
    "print(list_1)\n",
    "print(list_2)\n"
   ]
  },
  {
   "cell_type": "code",
   "execution_count": 57,
   "metadata": {},
   "outputs": [
    {
     "name": "stdout",
     "output_type": "stream",
     "text": [
      "('History', 'Math', 'Physics', 'CompSci')\n",
      "['Art', 'Math', 'Physics', 'CompSci']\n"
     ]
    },
    {
     "ename": "TypeError",
     "evalue": "'tuple' object does not support item assignment",
     "output_type": "error",
     "traceback": [
      "\u001b[1;31m---------------------------------------------------------------------------\u001b[0m",
      "\u001b[1;31mTypeError\u001b[0m                                 Traceback (most recent call last)",
      "\u001b[1;32m<ipython-input-57-1a134c152229>\u001b[0m in \u001b[0;36m<module>\u001b[1;34m\u001b[0m\n\u001b[0;32m      5\u001b[0m \u001b[0mprint\u001b[0m\u001b[1;33m(\u001b[0m\u001b[0mtuple_2\u001b[0m\u001b[1;33m)\u001b[0m\u001b[1;33m\u001b[0m\u001b[1;33m\u001b[0m\u001b[0m\n\u001b[0;32m      6\u001b[0m \u001b[1;33m\u001b[0m\u001b[0m\n\u001b[1;32m----> 7\u001b[1;33m \u001b[0mtuple_1\u001b[0m\u001b[1;33m[\u001b[0m\u001b[1;36m0\u001b[0m\u001b[1;33m]\u001b[0m \u001b[1;33m=\u001b[0m \u001b[1;34m'Art'\u001b[0m\u001b[1;33m\u001b[0m\u001b[1;33m\u001b[0m\u001b[0m\n\u001b[0m\u001b[0;32m      8\u001b[0m \u001b[1;33m\u001b[0m\u001b[0m\n\u001b[0;32m      9\u001b[0m \u001b[0mprint\u001b[0m\u001b[1;33m(\u001b[0m\u001b[0mtuple_1\u001b[0m\u001b[1;33m)\u001b[0m\u001b[1;33m\u001b[0m\u001b[1;33m\u001b[0m\u001b[0m\n",
      "\u001b[1;31mTypeError\u001b[0m: 'tuple' object does not support item assignment"
     ]
    }
   ],
   "source": [
    "tuple_1 = ('History', 'Math', 'Physics', 'CompSci')\n",
    "tuple_2 = list_1\n",
    "\n",
    "print(tuple_1)\n",
    "print(tuple_2)\n",
    "\n",
    "tuple_1[0] = 'Art' # gives error because tulpes are immutable\n",
    "\n",
    "print(tuple_1)\n",
    "print(tuple_2)\n",
    "\n",
    "#"
   ]
  },
  {
   "cell_type": "code",
   "execution_count": 53,
   "metadata": {},
   "outputs": [
    {
     "name": "stdout",
     "output_type": "stream",
     "text": [
      "{'Math', 'CompSci', 'Physics', 'History'}\n",
      "True\n"
     ]
    }
   ],
   "source": [
    "# sets are unordered (random) and contain no duplicates\n",
    "# membership test\n",
    "\n",
    "cs_courses = {'History', 'Math', 'Physics', 'CompSci', 'Math'}\n",
    "\n",
    "print(cs_courses)\n",
    "\n",
    "print('Math' in cs_courses)\n",
    "\n"
   ]
  },
  {
   "cell_type": "code",
   "execution_count": 56,
   "metadata": {},
   "outputs": [
    {
     "name": "stdout",
     "output_type": "stream",
     "text": [
      "{'Math', 'History'}\n",
      "{'Physics', 'CompSci'}\n",
      "{'Math', 'CompSci', 'Design', 'Physics', 'Art', 'History'}\n"
     ]
    }
   ],
   "source": [
    "cs_courses = {'History', 'Math', 'Physics', 'CompSci'}\n",
    "art_courses = {'History', 'Math', 'Art', 'Design'}\n",
    "\n",
    "\n",
    "print(cs_courses.intersection(art_courses))\n",
    "print(cs_courses.difference(art_courses))\n",
    "print(cs_courses.union(art_courses))\n"
   ]
  },
  {
   "cell_type": "code",
   "execution_count": null,
   "metadata": {
    "collapsed": true
   },
   "outputs": [],
   "source": [
    "# create empty lists, tuples and sets\n",
    "\n",
    "empty_list = []\n",
    "empty_list = list()\n",
    "\n",
    "empty_tuple = ()\n",
    "empty_tuple = tuple()\n",
    "\n",
    "empty_set = {}  #This isnt right! It's a dictionary\n",
    "empty_set = set()"
   ]
  },
  {
   "cell_type": "code",
   "execution_count": 3,
   "metadata": {},
   "outputs": [
    {
     "name": "stdout",
     "output_type": "stream",
     "text": [
      "{'name': 'John', 'age': 25, 'courses': ['Math', 'CompSci']}\n",
      "John\n",
      "['Math', 'CompSci']\n"
     ]
    }
   ],
   "source": [
    "# Start dictionary by:\n",
    "student = {'name': 'John', 'age': 25, 'courses': ['Math', 'CompSci']}\n",
    "# this dictionary contains a string, a number, and a list --> can be any unmutable data type\n",
    "# you can also have a number as key --> so change 'name' into 1 --> {1: 'John', ...} and print(student[1]) --> will return John\n",
    "\n",
    "print(student)\n",
    "print(student['name'])\n",
    "print(student['courses'])\n",
    "\n"
   ]
  },
  {
   "cell_type": "code",
   "execution_count": 6,
   "metadata": {},
   "outputs": [
    {
     "name": "stdout",
     "output_type": "stream",
     "text": [
      "{'name': 'John', 'age': 25, 'courses': ['Math', 'CompSci']}\n",
      "John\n",
      "['Math', 'CompSci']\n",
      "John\n",
      "None\n",
      "Not Found\n"
     ]
    }
   ],
   "source": [
    "student = {'name': 'John', 'age': 25, 'courses': ['Math', 'CompSci']}\n",
    "\n",
    "print(student)\n",
    "print(student['name'])\n",
    "print(student['courses'])\n",
    "#print(student['phone']) # get error code KeyError: 'phone'\n",
    "# to prevent error code, use get() method --> will return None\n",
    "print(student.get('name'))\n",
    "print(student.get('phone'))\n",
    "# .get(value, not found message) you can specify a message displayed when the value is not found\n",
    "print(student.get('phone', 'Not Found'))"
   ]
  },
  {
   "cell_type": "code",
   "execution_count": 12,
   "metadata": {},
   "outputs": [
    {
     "name": "stdout",
     "output_type": "stream",
     "text": [
      "{'name': 'Jane', 'age': 25, 'courses': ['Math', 'CompSci'], 'phone': '555-5555'}\n",
      "{'name': 'Mary', 'age': 26, 'courses': ['Math', 'CompSci'], 'phone': 0}\n"
     ]
    }
   ],
   "source": [
    "student = {'name': 'John', 'age': 25, 'courses': ['Math', 'CompSci']}\n",
    "\n",
    "# to modify a dictionary do this:\n",
    "student['phone'] = '555-5555'\n",
    "student['name'] = 'Jane'\n",
    "print(student)\n",
    "\n",
    "#update multiple values in one time\n",
    "student.update({'name': 'Mary', 'age': 26, 'phone':111-111})\n",
    "\n",
    "print(student)"
   ]
  },
  {
   "cell_type": "code",
   "execution_count": 14,
   "metadata": {},
   "outputs": [
    {
     "name": "stdout",
     "output_type": "stream",
     "text": [
      "{'name': 'John', 'courses': ['Math', 'CompSci']}\n",
      "{'name': 'John'}\n",
      "['Math', 'CompSci']\n"
     ]
    }
   ],
   "source": [
    "student = {'name': 'John', 'age': 25, 'courses': ['Math', 'CompSci']}\n",
    "\n",
    "print(student)\n",
    "\n",
    "\n",
    "#delete specific key and its value\n",
    "\n",
    "del student['age']\n",
    "\n",
    "print(student)\n",
    "\n",
    "# option 2 to delete specific key and its value and show the deleted value\n",
    "\n",
    "pop = student.pop('courses')\n",
    "print(student)\n",
    "print(pop)"
   ]
  },
  {
   "cell_type": "code",
   "execution_count": 18,
   "metadata": {},
   "outputs": [
    {
     "name": "stdout",
     "output_type": "stream",
     "text": [
      "3\n",
      "dict_keys(['name', 'age', 'courses'])\n",
      "dict_values(['John', 25, ['Math', 'CompSci']])\n",
      "dict_items([('name', 'John'), ('age', 25), ('courses', ['Math', 'CompSci'])])\n"
     ]
    }
   ],
   "source": [
    "#loop through all the keys and values of the dictionary\n",
    "\n",
    "student = {'name': 'John', 'age': 25, 'courses': ['Math', 'CompSci']}\n",
    "\n",
    "#how many keys in dict\n",
    "print(len(student))\n",
    "\n",
    "#print all keyw\n",
    "print(student.keys())\n",
    "\n",
    "# print all values\n",
    "print(student.values())\n",
    "\n",
    "# print keys and values\n",
    "print(student.items())\n"
   ]
  },
  {
   "cell_type": "code",
   "execution_count": 21,
   "metadata": {},
   "outputs": [
    {
     "name": "stdout",
     "output_type": "stream",
     "text": [
      "name\n",
      "age\n",
      "courses\n",
      "name John\n",
      "age 25\n",
      "courses ['Math', 'CompSci']\n"
     ]
    }
   ],
   "source": [
    "#loop through all the keys and values of the dictionary, \n",
    "# not same was as lists --> then only keys will be looped through\n",
    "\n",
    "student = {'name': 'John', 'age': 25, 'courses': ['Math', 'CompSci']}\n",
    "\n",
    "# same method as lists looop --> prints only keys\n",
    "for key in student:\n",
    "    print(key)\n",
    "    \n",
    "# we want to see keys and values --> use .items()\n",
    "for key, value in student.items():\n",
    "    print(key, value)"
   ]
  },
  {
   "cell_type": "code",
   "execution_count": 24,
   "metadata": {},
   "outputs": [
    {
     "name": "stdout",
     "output_type": "stream",
     "text": [
      "Conditional was True\n",
      "Condition is True\n"
     ]
    }
   ],
   "source": [
    "# Conditionals, control which statements are executed, booleans\n",
    "\n",
    "if True:\n",
    "    print('Conditional was True')\n",
    "    \n",
    "if False:\n",
    "    print('Conditional was True')\n",
    "    # --> is not printed anything\n",
    "\n",
    "language = 'Python'\n",
    "\n",
    "if language == 'Python': # == because equality testing\n",
    "    print('Condition is True')"
   ]
  },
  {
   "cell_type": "code",
   "execution_count": 27,
   "metadata": {},
   "outputs": [
    {
     "name": "stdout",
     "output_type": "stream",
     "text": [
      "Language is Python\n"
     ]
    }
   ],
   "source": [
    "# Comparisons:\n",
    "# Equal:==\n",
    "# Not Equal: !=\n",
    "# Greater than: >\n",
    "#...\n",
    "# Object Identity (if objects are the same identity, are the same objects in memory): is\n",
    "\n",
    "# If statements\n",
    "\n",
    "language = 'Python'\n",
    "\n",
    "if language == 'Python':\n",
    "    print('Language is Python')\n",
    "elif language == 'Java':\n",
    "    print('Language is Jave')\n",
    "else:\n",
    "    print('No match')\n"
   ]
  },
  {
   "cell_type": "code",
   "execution_count": 30,
   "metadata": {},
   "outputs": [
    {
     "name": "stdout",
     "output_type": "stream",
     "text": [
      "Bad Creds\n",
      "Admin Page\n",
      "Please log in\n"
     ]
    }
   ],
   "source": [
    "# and\n",
    "# or\n",
    "# not\n",
    "\n",
    "user = 'Admin'\n",
    "logged_in = False\n",
    "\n",
    "if user == 'Admin' and logged_in:\n",
    "    print('Admin Page')\n",
    "else:\n",
    "    print('Bad Creds')\n",
    "    \n",
    "\n",
    "if user == 'Admin' or logged_in:\n",
    "    print('Admin Page')\n",
    "else:\n",
    "    print('Bad Creds')\n",
    "    \n",
    "\n",
    "if not logged_in:\n",
    "    print('Please log in')\n",
    "else:\n",
    "    print('Welcome')"
   ]
  },
  {
   "cell_type": "code",
   "execution_count": 35,
   "metadata": {},
   "outputs": [
    {
     "name": "stdout",
     "output_type": "stream",
     "text": [
      "True\n",
      "False\n",
      "3056608133312\n",
      "3056608135360\n",
      "3056608113536\n",
      "3056608113536\n",
      "True\n"
     ]
    }
   ],
   "source": [
    "# is vs ==\n",
    "\n",
    "a = [1, 2, 3]\n",
    "b = [1, 2, 3]\n",
    "\n",
    "print(a==b)\n",
    "print(a is b)\n",
    "\n",
    "# Are two different objects in id\n",
    "\n",
    "print(id(a))\n",
    "print(id(b))\n",
    "\n",
    "\n",
    "a = [1, 2, 3]\n",
    "b = a\n",
    "\n",
    "print(id(a))\n",
    "print(id(b))\n",
    "#now same objects in memory\n",
    "print(id(a) == id(b))\n",
    "# so a is b can be translated as id(a) == id(b)"
   ]
  },
  {
   "cell_type": "code",
   "execution_count": 36,
   "metadata": {},
   "outputs": [
    {
     "name": "stdout",
     "output_type": "stream",
     "text": [
      "False\n"
     ]
    }
   ],
   "source": [
    "# False Values\n",
    "# False\n",
    "# None\n",
    "# Zero of any numeric type\n",
    "# Any empty sequence. For example, '', (), [].\n",
    "# Any empty mapping. For example, {}\n",
    "\n",
    "# All return False in an if condition\n",
    "condition = {}\n",
    "if condition:\n",
    "    print('True')\n",
    "else:\n",
    "    print('False')"
   ]
  },
  {
   "cell_type": "code",
   "execution_count": 42,
   "metadata": {},
   "outputs": [
    {
     "name": "stdout",
     "output_type": "stream",
     "text": [
      "1\n",
      "2\n",
      "3\n",
      "4\n",
      "5\n",
      "1\n",
      "2\n",
      "Found!\n",
      "1\n",
      "2\n",
      "3\n",
      "Found!\n",
      "1\n",
      "2\n",
      "Found!\n",
      "4\n",
      "5\n"
     ]
    }
   ],
   "source": [
    "# loops and iterations\n",
    "#list of numbers\n",
    "\n",
    "nums = [1,2,3,4,5]\n",
    "\n",
    "# loop through the list\n",
    "for num in nums:\n",
    "    print(num)\n",
    "\n",
    "# break and continue statement\n",
    "# break: search for value and stop when found\n",
    "for num in nums:\n",
    "    if num == 3:\n",
    "        print('Found!')\n",
    "        break\n",
    "    print(num)\n",
    "\n",
    "# to print also the final number put print before \n",
    "for num in nums:\n",
    "    print(num)\n",
    "    if num == 3:\n",
    "        print('Found!')\n",
    "        break\n",
    "    \n",
    "    \n",
    "# continue: go to next iteration in loop\n",
    "for num in nums:\n",
    "    if num == 3:\n",
    "        print('Found!')\n",
    "        continue\n",
    "    print(num)"
   ]
  },
  {
   "cell_type": "code",
   "execution_count": 46,
   "metadata": {},
   "outputs": [
    {
     "name": "stdout",
     "output_type": "stream",
     "text": [
      "1 a\n",
      "1 b\n",
      "1 c\n",
      "2 a\n",
      "2 b\n",
      "2 c\n",
      "3 a\n",
      "3 b\n",
      "3 c\n",
      "4 a\n",
      "4 b\n",
      "4 c\n",
      "5 a\n",
      "5 b\n",
      "5 c\n"
     ]
    }
   ],
   "source": [
    "# loop within loop\n",
    "nums = [1,2,3,4,5]\n",
    "\n",
    "#every combination of numbers with letters\n",
    "for num in nums:\n",
    "    for letter in 'abc':\n",
    "        print(num, letter)"
   ]
  },
  {
   "cell_type": "code",
   "execution_count": 49,
   "metadata": {},
   "outputs": [
    {
     "name": "stdout",
     "output_type": "stream",
     "text": [
      "1\n",
      "2\n",
      "3\n",
      "4\n",
      "5\n",
      "6\n",
      "7\n",
      "8\n",
      "9\n",
      "10\n"
     ]
    }
   ],
   "source": [
    "#function range\n",
    "# run through a loop 10 times\n",
    "\n",
    "for i in range(1,11):\n",
    "    print(i)"
   ]
  },
  {
   "cell_type": "code",
   "execution_count": 51,
   "metadata": {},
   "outputs": [
    {
     "name": "stdout",
     "output_type": "stream",
     "text": [
      "0\n",
      "1\n",
      "2\n",
      "3\n",
      "4\n",
      "5\n",
      "6\n",
      "7\n",
      "8\n",
      "9\n"
     ]
    }
   ],
   "source": [
    "# while loops\n",
    "# keep going untill certain condition / break is hit\n",
    "\n",
    "x = 0\n",
    "\n",
    "while x < 10:\n",
    "    print(x)\n",
    "    x += 1\n",
    "\n",
    "# always put in condition that ends, else endless loop"
   ]
  },
  {
   "cell_type": "code",
   "execution_count": 53,
   "metadata": {},
   "outputs": [
    {
     "name": "stdout",
     "output_type": "stream",
     "text": [
      "0\n",
      "1\n",
      "2\n",
      "3\n",
      "4\n"
     ]
    }
   ],
   "source": [
    "# break before by break statement\n",
    "x=0\n",
    "\n",
    "while x < 10:\n",
    "    if x == 5:\n",
    "        break\n",
    "    print(x)\n",
    "    x += 1\n"
   ]
  },
  {
   "cell_type": "code",
   "execution_count": 54,
   "metadata": {},
   "outputs": [
    {
     "name": "stdout",
     "output_type": "stream",
     "text": [
      "0\n",
      "1\n",
      "2\n",
      "3\n",
      "4\n"
     ]
    }
   ],
   "source": [
    "# infident loop untill input / find value\n",
    "x=0\n",
    "\n",
    "while True:\n",
    "    if x == 5:\n",
    "        break\n",
    "    print(x)\n",
    "    x += 1\n",
    "    \n",
    "# when you are stuck in an infident loop you can stop the loop by pressing ctrl + c"
   ]
  },
  {
   "cell_type": "code",
   "execution_count": null,
   "metadata": {},
   "outputs": [],
   "source": []
  }
 ],
 "metadata": {
  "kernelspec": {
   "display_name": "Python 3",
   "language": "python",
   "name": "python3"
  },
  "language_info": {
   "codemirror_mode": {
    "name": "ipython",
    "version": 3
   },
   "file_extension": ".py",
   "mimetype": "text/x-python",
   "name": "python",
   "nbconvert_exporter": "python",
   "pygments_lexer": "ipython3",
   "version": "3.8.3"
  }
 },
 "nbformat": 4,
 "nbformat_minor": 4
}
